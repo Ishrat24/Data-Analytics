{
 "cells": [
  {
   "cell_type": "code",
   "execution_count": null,
   "id": "7cc962c8",
   "metadata": {},
   "outputs": [],
   "source": [
    "#Ishrat Amin\n",
    "#CSCI381\n",
    "#Professor : Matthew Fried"
   ]
  },
  {
   "cell_type": "code",
   "execution_count": 70,
   "id": "f85044e7",
   "metadata": {},
   "outputs": [],
   "source": [
    "import re"
   ]
  },
  {
   "cell_type": "code",
   "execution_count": 71,
   "id": "f8c00f36",
   "metadata": {},
   "outputs": [
    {
     "name": "stdout",
     "output_type": "stream",
     "text": [
      "['555', '1239', '636', '555', '0113', '555', '6542', '555', '8904', '636', '555', '3226', '5553642']\n"
     ]
    }
   ],
   "source": [
    "#1\n",
    "s = '555-1239Dr. Bernard Lander(636) 555-0113Hollingdorp, Donnatella555-6542Fitzgerald, F. Sco\\\n",
    "tt555 8904Rev. Martin Luther King636-555-3226Snodgrass, Theodore5553642Carlamina Scarfoni'\n",
    "\n",
    "result=re.findall(r'\\d+', s)\n",
    "print (result)"
   ]
  },
  {
   "cell_type": "code",
   "execution_count": 72,
   "id": "ea985fe0",
   "metadata": {},
   "outputs": [
    {
     "name": "stdout",
     "output_type": "stream",
     "text": [
      "['Dr. Bernard Lander', 'Hollingdorp, Donnatella', 'Fitzgerald, F. Scott', 'Rev. Martin Luther King', 'Snodgrass, Theodore', 'Carlamina Scarfoni']\n"
     ]
    }
   ],
   "source": [
    "#2\n",
    "\n",
    "Title = r\"(?:[A-Z][a-z]*\\.\\s*)?\"\n",
    "First = r\"[A-Z][a-z]+,?\\s+\"\n",
    "Middle = r\"(?:[A-Z][a-z]*\\.?\\s*)?\"\n",
    "Last = r\"[A-Z][a-z]+\"\n",
    "names=re.findall(Title + First + Middle + Last, s)\n",
    "print(names)\n"
   ]
  },
  {
   "cell_type": "code",
   "execution_count": 73,
   "id": "12cb4f3e",
   "metadata": {},
   "outputs": [
    {
     "name": "stdout",
     "output_type": "stream",
     "text": [
      "['Dr. Bernard Lander', ' Donnatella  Hollingdorp', ' Scott  F. Fitzgerald', 'Rev. Martin Luther King', ' Theodore  Snodgrass', 'Carlamina Scarfoni']\n"
     ]
    }
   ],
   "source": [
    "#3\n",
    "\n",
    "rearrange_list =[]\n",
    "for name in names:\n",
    "    if (\",\" in name):\n",
    "        Last, First = name.split(\",\")\n",
    "        Middle = \"\"\n",
    "        \n",
    "        if (\".\" in First):\n",
    "            Middle, first = First.split(\".\")\n",
    "            Middle+= \".\"\n",
    "        else:\n",
    "            first = First\n",
    "\n",
    "        \n",
    "        rearrange_list.append(first + \" \" + Middle + \" \" + Last)\n",
    "\n",
    "    else:\n",
    "        rearrange_list.append(name)\n",
    "        \n",
    "print(rearrange_list)"
   ]
  },
  {
   "cell_type": "code",
   "execution_count": 74,
   "id": "25bc69bf",
   "metadata": {},
   "outputs": [
    {
     "name": "stdout",
     "output_type": "stream",
     "text": [
      "[True, False, False, True, False, False]\n"
     ]
    }
   ],
   "source": [
    "#4\n",
    "\n",
    "output = []\n",
    "for char in names:\n",
    "    name = char.split(' ')\n",
    "    if name[0] == 'Dr.' or name[0] == 'Rev.':\n",
    "        output.append(True)\n",
    "    else:\n",
    "        output.append(False)\n",
    "\n",
    "print(output)"
   ]
  },
  {
   "cell_type": "code",
   "execution_count": 75,
   "id": "85144988",
   "metadata": {},
   "outputs": [
    {
     "name": "stdout",
     "output_type": "stream",
     "text": [
      "[False, False, True, True, False, False]\n"
     ]
    }
   ],
   "source": [
    "#5\n",
    "\n",
    "result = []\n",
    "\n",
    "for name in rearrange_list:\n",
    "    x = name.split()\n",
    "    idx = 1 if x[0].endswith('.') else 0\n",
    "    result.append(len(x[idx:]) > 2)\n",
    "\n",
    "print(result)\n"
   ]
  },
  {
   "cell_type": "code",
   "execution_count": 76,
   "id": "855afb22",
   "metadata": {},
   "outputs": [
    {
     "name": "stdout",
     "output_type": "stream",
     "text": [
      "['title', 'title']\n"
     ]
    }
   ],
   "source": [
    "#6\n",
    "\n",
    "#If we consider this HTML string <title>+++BREAKING NEWS+++<title> and use regular expression “<.+>” . \n",
    "#It includes <title> tags and the text between tags.This is why we can not use “<.+>” regular expression.\n",
    "#In order to get only the first HTML tag (i.e., “<title>”). we need to use <([a-z]+)> which will only select <title> tag.\n",
    "\n",
    "String = '<title>+++BREAKING NEWS+++<title>'\n",
    "tag  = re.findall('<([a-z]+)>', String )\n",
    "print(tag)\n"
   ]
  },
  {
   "cell_type": "code",
   "execution_count": 77,
   "id": "230627fe",
   "metadata": {},
   "outputs": [
    {
     "name": "stdout",
     "output_type": "stream",
     "text": [
      "['(5-3)^2=5^2-2*5*3+3^2']\n"
     ]
    }
   ],
   "source": [
    "#7\n",
    "\n",
    "#If we use this regex expression [^0-9=+*()]+ , we do not get (5-3)^2=5^2-2*5*3+3^2 this equation output as a string.\n",
    "#It only matches (-,^) this two symbol.In order to get Desired output as string.\n",
    "#we need to use [-+^*()=0-9]+ this regex expression\n",
    "\n",
    "equation = '(5-3)^2=5^2-2*5*3+3^2'\n",
    "\n",
    "y = re.findall('[-+^*()=0-9]+', equation)\n",
    "\n",
    "print(y)\n"
   ]
  },
  {
   "cell_type": "code",
   "execution_count": 78,
   "id": "53f5466a",
   "metadata": {},
   "outputs": [],
   "source": []
  },
  {
   "cell_type": "code",
   "execution_count": null,
   "id": "9b5ba4a3",
   "metadata": {},
   "outputs": [],
   "source": []
  },
  {
   "cell_type": "code",
   "execution_count": null,
   "id": "6d3f8d7a",
   "metadata": {},
   "outputs": [],
   "source": []
  }
 ],
 "metadata": {
  "kernelspec": {
   "display_name": "Python 3 (ipykernel)",
   "language": "python",
   "name": "python3"
  },
  "language_info": {
   "codemirror_mode": {
    "name": "ipython",
    "version": 3
   },
   "file_extension": ".py",
   "mimetype": "text/x-python",
   "name": "python",
   "nbconvert_exporter": "python",
   "pygments_lexer": "ipython3",
   "version": "3.9.12"
  }
 },
 "nbformat": 4,
 "nbformat_minor": 5
}
