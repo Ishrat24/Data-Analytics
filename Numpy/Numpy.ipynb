{
 "cells": [
  {
   "cell_type": "code",
   "execution_count": null,
   "id": "7e959fd2",
   "metadata": {},
   "outputs": [],
   "source": [
    "#Ishrat Amin\n",
    "#CSCI381\n",
    "#Professor : Matthew Fried"
   ]
  },
  {
   "cell_type": "code",
   "execution_count": 80,
   "id": "4a3e7221",
   "metadata": {},
   "outputs": [],
   "source": [
    "#https://www.geeksforgeeks.org\n",
    "#https://numpy.org\n",
    "#https://www.tutorialspoint.com\n",
    "#https://www.datasciencemadesimple.com"
   ]
  },
  {
   "cell_type": "code",
   "execution_count": 69,
   "id": "53c9ba63",
   "metadata": {},
   "outputs": [],
   "source": [
    "import numpy as np\n",
    "import pandas as pd"
   ]
  },
  {
   "cell_type": "code",
   "execution_count": 70,
   "id": "260afdc4",
   "metadata": {},
   "outputs": [],
   "source": [
    "#1\n",
    "\n",
    "a = np.array([1, 2, 3, 2, 3, 4, 3, 4, 5, 6])\n",
    "b = np.array([7, 2, 10, 2, 7, 4, 9, 4, 9, 8])\n"
   ]
  },
  {
   "cell_type": "code",
   "execution_count": 71,
   "id": "8ceb693f",
   "metadata": {},
   "outputs": [
    {
     "name": "stdout",
     "output_type": "stream",
     "text": [
      "[2 4]\n"
     ]
    }
   ],
   "source": [
    "print(np.intersect1d(a, b))"
   ]
  },
  {
   "cell_type": "code",
   "execution_count": 72,
   "id": "348e2132",
   "metadata": {},
   "outputs": [
    {
     "name": "stdout",
     "output_type": "stream",
     "text": [
      "[[ 1  6 11]\n",
      " [ 2  7 12]\n",
      " [ 3  8 13]\n",
      " [ 4  9 14]\n",
      " [ 5 10 15]]\n"
     ]
    }
   ],
   "source": [
    "#2\n",
    "\n",
    "arr = np.arange(1,16)\n",
    "newarr = arr.reshape(3,5)\n",
    "x=newarr.T\n",
    "print(x)"
   ]
  },
  {
   "cell_type": "code",
   "execution_count": 73,
   "id": "fb180640",
   "metadata": {},
   "outputs": [
    {
     "name": "stdout",
     "output_type": "stream",
     "text": [
      "[ 1  2  3  4  5  6  7  8  9 10 11 12 13 14 15]\n"
     ]
    }
   ],
   "source": [
    "#3\n",
    "\n",
    "output = np.sort(x.flatten())\n",
    "print(output)"
   ]
  },
  {
   "cell_type": "code",
   "execution_count": 74,
   "id": "d71c7d24",
   "metadata": {},
   "outputs": [
    {
     "name": "stdout",
     "output_type": "stream",
     "text": [
      "[[[ 1  2  3  4  5]]\n",
      "\n",
      " [[ 6  7  8  9 10]]\n",
      "\n",
      " [[11 12 13 14 15]]]\n"
     ]
    }
   ],
   "source": [
    "#4\n",
    "\n",
    "Three_Darray = arr.reshape(3,1,5)\n",
    "\n",
    "print(Three_Darray)\n"
   ]
  },
  {
   "cell_type": "code",
   "execution_count": 75,
   "id": "4f7b6a68",
   "metadata": {},
   "outputs": [
    {
     "name": "stdout",
     "output_type": "stream",
     "text": [
      "[[ 1  6 11]\n",
      " [ 2  7 12]\n",
      " [ 3  8 13]\n",
      " [ 4  9 14]\n",
      " [ 5 10 15]]\n"
     ]
    }
   ],
   "source": [
    "#5\n",
    "\n",
    "Two_Darray = np.reshape(Three_Darray, (3, 5))\n",
    "y=Two_Darray.T\n",
    "print(y)\n"
   ]
  },
  {
   "cell_type": "code",
   "execution_count": 76,
   "id": "1a65429f",
   "metadata": {},
   "outputs": [
    {
     "name": "stdout",
     "output_type": "stream",
     "text": [
      "[ 1  7  8 15]\n",
      "[14  6  3 11 19 12  5]\n"
     ]
    }
   ],
   "source": [
    "#6\n",
    "\n",
    "a = np.array([12, 5, 7, 15, 3, 1, 8])\n",
    "b = np.array([14, 6, 3, 11, 19, 12, 5])\n",
    "\n",
    "c=np.setdiff1d(a, b)\n",
    "\n",
    "print(c)\n",
    "print(b)\n"
   ]
  },
  {
   "cell_type": "code",
   "execution_count": 78,
   "id": "aaa355cd",
   "metadata": {},
   "outputs": [],
   "source": [
    "#7\n",
    "\n",
    "df = pd.read_csv('Module6_Data.csv')"
   ]
  },
  {
   "cell_type": "code",
   "execution_count": 79,
   "id": "0ef5178e",
   "metadata": {},
   "outputs": [
    {
     "data": {
      "text/html": [
       "<div>\n",
       "<style scoped>\n",
       "    .dataframe tbody tr th:only-of-type {\n",
       "        vertical-align: middle;\n",
       "    }\n",
       "\n",
       "    .dataframe tbody tr th {\n",
       "        vertical-align: top;\n",
       "    }\n",
       "\n",
       "    .dataframe thead th {\n",
       "        text-align: right;\n",
       "    }\n",
       "</style>\n",
       "<table border=\"1\" class=\"dataframe\">\n",
       "  <thead>\n",
       "    <tr style=\"text-align: right;\">\n",
       "      <th></th>\n",
       "      <th>Year</th>\n",
       "      <th>New York City Population</th>\n",
       "      <th>NYC Consumption(Million gallons per day)</th>\n",
       "      <th>Per Capita(Gallons per person per day)</th>\n",
       "    </tr>\n",
       "  </thead>\n",
       "  <tbody>\n",
       "    <tr>\n",
       "      <th>0</th>\n",
       "      <td>1979</td>\n",
       "      <td>7102100.0</td>\n",
       "      <td>1512.0</td>\n",
       "      <td>213</td>\n",
       "    </tr>\n",
       "    <tr>\n",
       "      <th>1</th>\n",
       "      <td>1980</td>\n",
       "      <td>7071639.0</td>\n",
       "      <td>1506.0</td>\n",
       "      <td>213</td>\n",
       "    </tr>\n",
       "    <tr>\n",
       "      <th>2</th>\n",
       "      <td>1981</td>\n",
       "      <td>7089241.0</td>\n",
       "      <td>1309.0</td>\n",
       "      <td>185</td>\n",
       "    </tr>\n",
       "    <tr>\n",
       "      <th>3</th>\n",
       "      <td>1982</td>\n",
       "      <td>7109105.0</td>\n",
       "      <td>1382.0</td>\n",
       "      <td>194</td>\n",
       "    </tr>\n",
       "    <tr>\n",
       "      <th>4</th>\n",
       "      <td>1983</td>\n",
       "      <td>7181224.0</td>\n",
       "      <td>1424.0</td>\n",
       "      <td>198</td>\n",
       "    </tr>\n",
       "    <tr>\n",
       "      <th>5</th>\n",
       "      <td>1984</td>\n",
       "      <td>7234514.0</td>\n",
       "      <td>1465.0</td>\n",
       "      <td>203</td>\n",
       "    </tr>\n",
       "    <tr>\n",
       "      <th>6</th>\n",
       "      <td>1985</td>\n",
       "      <td>7274054.0</td>\n",
       "      <td>1326.0</td>\n",
       "      <td>182</td>\n",
       "    </tr>\n",
       "    <tr>\n",
       "      <th>7</th>\n",
       "      <td>1986</td>\n",
       "      <td>7319246.0</td>\n",
       "      <td>1351.0</td>\n",
       "      <td>185</td>\n",
       "    </tr>\n",
       "    <tr>\n",
       "      <th>8</th>\n",
       "      <td>1987</td>\n",
       "      <td>7342476.0</td>\n",
       "      <td>1447.0</td>\n",
       "      <td>197</td>\n",
       "    </tr>\n",
       "    <tr>\n",
       "      <th>9</th>\n",
       "      <td>1988</td>\n",
       "      <td>7353719.0</td>\n",
       "      <td>1484.0</td>\n",
       "      <td>202</td>\n",
       "    </tr>\n",
       "    <tr>\n",
       "      <th>10</th>\n",
       "      <td>1989</td>\n",
       "      <td>7344175.0</td>\n",
       "      <td>1402.0</td>\n",
       "      <td>191</td>\n",
       "    </tr>\n",
       "    <tr>\n",
       "      <th>11</th>\n",
       "      <td>1990</td>\n",
       "      <td>7335650.0</td>\n",
       "      <td>1424.0</td>\n",
       "      <td>194</td>\n",
       "    </tr>\n",
       "    <tr>\n",
       "      <th>12</th>\n",
       "      <td>1991</td>\n",
       "      <td>7374501.0</td>\n",
       "      <td>1469.0</td>\n",
       "      <td>199</td>\n",
       "    </tr>\n",
       "    <tr>\n",
       "      <th>13</th>\n",
       "      <td>1992</td>\n",
       "      <td>7428944.0</td>\n",
       "      <td>1369.0</td>\n",
       "      <td>184</td>\n",
       "    </tr>\n",
       "    <tr>\n",
       "      <th>14</th>\n",
       "      <td>1993</td>\n",
       "      <td>7506166.0</td>\n",
       "      <td>1368.5</td>\n",
       "      <td>182</td>\n",
       "    </tr>\n",
       "    <tr>\n",
       "      <th>15</th>\n",
       "      <td>1994</td>\n",
       "      <td>7570458.0</td>\n",
       "      <td>1357.7</td>\n",
       "      <td>179</td>\n",
       "    </tr>\n",
       "    <tr>\n",
       "      <th>16</th>\n",
       "      <td>1995</td>\n",
       "      <td>7633040.0</td>\n",
       "      <td>1325.7</td>\n",
       "      <td>174</td>\n",
       "    </tr>\n",
       "    <tr>\n",
       "      <th>17</th>\n",
       "      <td>1996</td>\n",
       "      <td>7697812.0</td>\n",
       "      <td>1297.9</td>\n",
       "      <td>169</td>\n",
       "    </tr>\n",
       "    <tr>\n",
       "      <th>18</th>\n",
       "      <td>1997</td>\n",
       "      <td>7773443.0</td>\n",
       "      <td>1205.5</td>\n",
       "      <td>155</td>\n",
       "    </tr>\n",
       "    <tr>\n",
       "      <th>19</th>\n",
       "      <td>1998</td>\n",
       "      <td>7858259.0</td>\n",
       "      <td>1219.5</td>\n",
       "      <td>155</td>\n",
       "    </tr>\n",
       "    <tr>\n",
       "      <th>20</th>\n",
       "      <td>1999</td>\n",
       "      <td>7947660.0</td>\n",
       "      <td>1237.2</td>\n",
       "      <td>156</td>\n",
       "    </tr>\n",
       "    <tr>\n",
       "      <th>21</th>\n",
       "      <td>2000</td>\n",
       "      <td>8008278.0</td>\n",
       "      <td>1240.4</td>\n",
       "      <td>155</td>\n",
       "    </tr>\n",
       "    <tr>\n",
       "      <th>22</th>\n",
       "      <td>2001</td>\n",
       "      <td>8024963.5</td>\n",
       "      <td>1184.0</td>\n",
       "      <td>148</td>\n",
       "    </tr>\n",
       "    <tr>\n",
       "      <th>23</th>\n",
       "      <td>2002</td>\n",
       "      <td>8041649.0</td>\n",
       "      <td>1135.6</td>\n",
       "      <td>141</td>\n",
       "    </tr>\n",
       "    <tr>\n",
       "      <th>24</th>\n",
       "      <td>2003</td>\n",
       "      <td>8058334.5</td>\n",
       "      <td>1093.7</td>\n",
       "      <td>136</td>\n",
       "    </tr>\n",
       "    <tr>\n",
       "      <th>25</th>\n",
       "      <td>2004</td>\n",
       "      <td>8075020.0</td>\n",
       "      <td>1099.5</td>\n",
       "      <td>136</td>\n",
       "    </tr>\n",
       "    <tr>\n",
       "      <th>26</th>\n",
       "      <td>2005</td>\n",
       "      <td>8091705.5</td>\n",
       "      <td>1138.0</td>\n",
       "      <td>141</td>\n",
       "    </tr>\n",
       "    <tr>\n",
       "      <th>27</th>\n",
       "      <td>2006</td>\n",
       "      <td>8108391.0</td>\n",
       "      <td>1069.0</td>\n",
       "      <td>132</td>\n",
       "    </tr>\n",
       "    <tr>\n",
       "      <th>28</th>\n",
       "      <td>2007</td>\n",
       "      <td>8125076.5</td>\n",
       "      <td>1114.0</td>\n",
       "      <td>137</td>\n",
       "    </tr>\n",
       "    <tr>\n",
       "      <th>29</th>\n",
       "      <td>2008</td>\n",
       "      <td>8141762.0</td>\n",
       "      <td>1098.0</td>\n",
       "      <td>135</td>\n",
       "    </tr>\n",
       "    <tr>\n",
       "      <th>30</th>\n",
       "      <td>2009</td>\n",
       "      <td>8158447.5</td>\n",
       "      <td>1007.5</td>\n",
       "      <td>123</td>\n",
       "    </tr>\n",
       "    <tr>\n",
       "      <th>31</th>\n",
       "      <td>2010</td>\n",
       "      <td>8175133.0</td>\n",
       "      <td>1039.0</td>\n",
       "      <td>127</td>\n",
       "    </tr>\n",
       "    <tr>\n",
       "      <th>32</th>\n",
       "      <td>2011</td>\n",
       "      <td>8284098.0</td>\n",
       "      <td>1021.0</td>\n",
       "      <td>123</td>\n",
       "    </tr>\n",
       "    <tr>\n",
       "      <th>33</th>\n",
       "      <td>2012</td>\n",
       "      <td>8361179.0</td>\n",
       "      <td>1009.1</td>\n",
       "      <td>121</td>\n",
       "    </tr>\n",
       "    <tr>\n",
       "      <th>34</th>\n",
       "      <td>2013</td>\n",
       "      <td>8422460.0</td>\n",
       "      <td>1006.1</td>\n",
       "      <td>119</td>\n",
       "    </tr>\n",
       "    <tr>\n",
       "      <th>35</th>\n",
       "      <td>2014</td>\n",
       "      <td>8471990.0</td>\n",
       "      <td>996.0</td>\n",
       "      <td>118</td>\n",
       "    </tr>\n",
       "    <tr>\n",
       "      <th>36</th>\n",
       "      <td>2015</td>\n",
       "      <td>8516502.0</td>\n",
       "      <td>1009.0</td>\n",
       "      <td>118</td>\n",
       "    </tr>\n",
       "    <tr>\n",
       "      <th>37</th>\n",
       "      <td>2016</td>\n",
       "      <td>8537673.0</td>\n",
       "      <td>1002.0</td>\n",
       "      <td>117</td>\n",
       "    </tr>\n",
       "    <tr>\n",
       "      <th>38</th>\n",
       "      <td>2017</td>\n",
       "      <td>8622698.0</td>\n",
       "      <td>990.2</td>\n",
       "      <td>115</td>\n",
       "    </tr>\n",
       "  </tbody>\n",
       "</table>\n",
       "</div>"
      ],
      "text/plain": [
       "    Year  New York City Population  NYC Consumption(Million gallons per day)  \\\n",
       "0   1979                 7102100.0                                    1512.0   \n",
       "1   1980                 7071639.0                                    1506.0   \n",
       "2   1981                 7089241.0                                    1309.0   \n",
       "3   1982                 7109105.0                                    1382.0   \n",
       "4   1983                 7181224.0                                    1424.0   \n",
       "5   1984                 7234514.0                                    1465.0   \n",
       "6   1985                 7274054.0                                    1326.0   \n",
       "7   1986                 7319246.0                                    1351.0   \n",
       "8   1987                 7342476.0                                    1447.0   \n",
       "9   1988                 7353719.0                                    1484.0   \n",
       "10  1989                 7344175.0                                    1402.0   \n",
       "11  1990                 7335650.0                                    1424.0   \n",
       "12  1991                 7374501.0                                    1469.0   \n",
       "13  1992                 7428944.0                                    1369.0   \n",
       "14  1993                 7506166.0                                    1368.5   \n",
       "15  1994                 7570458.0                                    1357.7   \n",
       "16  1995                 7633040.0                                    1325.7   \n",
       "17  1996                 7697812.0                                    1297.9   \n",
       "18  1997                 7773443.0                                    1205.5   \n",
       "19  1998                 7858259.0                                    1219.5   \n",
       "20  1999                 7947660.0                                    1237.2   \n",
       "21  2000                 8008278.0                                    1240.4   \n",
       "22  2001                 8024963.5                                    1184.0   \n",
       "23  2002                 8041649.0                                    1135.6   \n",
       "24  2003                 8058334.5                                    1093.7   \n",
       "25  2004                 8075020.0                                    1099.5   \n",
       "26  2005                 8091705.5                                    1138.0   \n",
       "27  2006                 8108391.0                                    1069.0   \n",
       "28  2007                 8125076.5                                    1114.0   \n",
       "29  2008                 8141762.0                                    1098.0   \n",
       "30  2009                 8158447.5                                    1007.5   \n",
       "31  2010                 8175133.0                                    1039.0   \n",
       "32  2011                 8284098.0                                    1021.0   \n",
       "33  2012                 8361179.0                                    1009.1   \n",
       "34  2013                 8422460.0                                    1006.1   \n",
       "35  2014                 8471990.0                                     996.0   \n",
       "36  2015                 8516502.0                                    1009.0   \n",
       "37  2016                 8537673.0                                    1002.0   \n",
       "38  2017                 8622698.0                                     990.2   \n",
       "\n",
       "    Per Capita(Gallons per person per day)  \n",
       "0                                      213  \n",
       "1                                      213  \n",
       "2                                      185  \n",
       "3                                      194  \n",
       "4                                      198  \n",
       "5                                      203  \n",
       "6                                      182  \n",
       "7                                      185  \n",
       "8                                      197  \n",
       "9                                      202  \n",
       "10                                     191  \n",
       "11                                     194  \n",
       "12                                     199  \n",
       "13                                     184  \n",
       "14                                     182  \n",
       "15                                     179  \n",
       "16                                     174  \n",
       "17                                     169  \n",
       "18                                     155  \n",
       "19                                     155  \n",
       "20                                     156  \n",
       "21                                     155  \n",
       "22                                     148  \n",
       "23                                     141  \n",
       "24                                     136  \n",
       "25                                     136  \n",
       "26                                     141  \n",
       "27                                     132  \n",
       "28                                     137  \n",
       "29                                     135  \n",
       "30                                     123  \n",
       "31                                     127  \n",
       "32                                     123  \n",
       "33                                     121  \n",
       "34                                     119  \n",
       "35                                     118  \n",
       "36                                     118  \n",
       "37                                     117  \n",
       "38                                     115  "
      ]
     },
     "execution_count": 79,
     "metadata": {},
     "output_type": "execute_result"
    }
   ],
   "source": [
    "df"
   ]
  },
  {
   "cell_type": "code",
   "execution_count": 99,
   "id": "559e2aa7",
   "metadata": {},
   "outputs": [],
   "source": [
    "##1\n",
    "\n",
    "Gallons = df['NYC Consumption(Million gallons per day)'].values\n"
   ]
  },
  {
   "cell_type": "code",
   "execution_count": 100,
   "id": "8ad61832",
   "metadata": {},
   "outputs": [
    {
     "name": "stdout",
     "output_type": "stream",
     "text": [
      "[1512.  1506.  1309.  1382.  1424.  1465.  1326.  1351.  1447.  1484.\n",
      " 1402.  1424.  1469.  1369.  1368.5 1357.7 1325.7 1297.9 1205.5 1219.5\n",
      " 1237.2 1240.4 1184.  1135.6 1093.7 1099.5 1138.  1069.  1114.  1098.\n",
      " 1007.5 1039.  1021.  1009.1 1006.1  996.  1009.  1002.   990.2]\n"
     ]
    }
   ],
   "source": [
    "print(Gallons)"
   ]
  },
  {
   "cell_type": "code",
   "execution_count": 103,
   "id": "c2f900dc",
   "metadata": {},
   "outputs": [
    {
     "name": "stdout",
     "output_type": "stream",
     "text": [
      "1512.0\n"
     ]
    }
   ],
   "source": [
    "print(Gallons.max())"
   ]
  },
  {
   "cell_type": "code",
   "execution_count": 87,
   "id": "c1e4c00e",
   "metadata": {},
   "outputs": [
    {
     "name": "stdout",
     "output_type": "stream",
     "text": [
      "(39,)\n"
     ]
    }
   ],
   "source": [
    "##2\n",
    "\n",
    "x= df['Year'].shape\n",
    "\n",
    "print(x)"
   ]
  },
  {
   "cell_type": "code",
   "execution_count": 90,
   "id": "afd765c1",
   "metadata": {},
   "outputs": [],
   "source": [
    "##3\n",
    "PerCapita = df['Per Capita(Gallons per person per day)'].values\n"
   ]
  },
  {
   "cell_type": "code",
   "execution_count": 91,
   "id": "b875fa22",
   "metadata": {},
   "outputs": [
    {
     "name": "stdout",
     "output_type": "stream",
     "text": [
      "[213 213 185 194 198 203 182 185 197 202 191 194 199 184 182 179 174 169\n",
      " 155 155 156 155 148 141 136 136 141 132 137 135 123 127 123 121 119 118\n",
      " 118 117 115]\n"
     ]
    }
   ],
   "source": [
    "print(PerCapita)"
   ]
  },
  {
   "cell_type": "code",
   "execution_count": 96,
   "id": "ffefc1d8",
   "metadata": {},
   "outputs": [
    {
     "name": "stdout",
     "output_type": "stream",
     "text": [
      "160.30769230769232\n"
     ]
    }
   ],
   "source": [
    "print( PerCapita.mean())"
   ]
  },
  {
   "cell_type": "code",
   "execution_count": 97,
   "id": "825820d9",
   "metadata": {},
   "outputs": [
    {
     "name": "stdout",
     "output_type": "stream",
     "text": [
      "31.51894330370624\n"
     ]
    }
   ],
   "source": [
    "print(PerCapita.std())"
   ]
  },
  {
   "cell_type": "code",
   "execution_count": 104,
   "id": "3d632e9c",
   "metadata": {},
   "outputs": [],
   "source": [
    "#4\n",
    "\n",
    "pop = df['New York City Population'].values"
   ]
  },
  {
   "cell_type": "code",
   "execution_count": 105,
   "id": "f3ca16f6",
   "metadata": {},
   "outputs": [
    {
     "name": "stdout",
     "output_type": "stream",
     "text": [
      "[7102100.  7071639.  7089241.  7109105.  7181224.  7234514.  7274054.\n",
      " 7319246.  7342476.  7353719.  7344175.  7335650.  7374501.  7428944.\n",
      " 7506166.  7570458.  7633040.  7697812.  7773443.  7858259.  7947660.\n",
      " 8008278.  8024963.5 8041649.  8058334.5 8075020.  8091705.5 8108391.\n",
      " 8125076.5 8141762.  8158447.5 8175133.  8284098.  8361179.  8422460.\n",
      " 8471990.  8516502.  8537673.  8622698. ]\n"
     ]
    }
   ],
   "source": [
    "print(pop)"
   ]
  },
  {
   "cell_type": "code",
   "execution_count": 107,
   "id": "dbbab6da",
   "metadata": {},
   "outputs": [],
   "source": [
    "pop_diff = np.diff(pop)"
   ]
  },
  {
   "cell_type": "code",
   "execution_count": 108,
   "id": "9186c3ac",
   "metadata": {},
   "outputs": [
    {
     "name": "stdout",
     "output_type": "stream",
     "text": [
      "[-30461.   17602.   19864.   72119.   53290.   39540.   45192.   23230.\n",
      "  11243.   -9544.   -8525.   38851.   54443.   77222.   64292.   62582.\n",
      "  64772.   75631.   84816.   89401.   60618.   16685.5  16685.5  16685.5\n",
      "  16685.5  16685.5  16685.5  16685.5  16685.5  16685.5  16685.5 108965.\n",
      "  77081.   61281.   49530.   44512.   21171.   85025. ]\n"
     ]
    }
   ],
   "source": [
    "print(pop_diff)"
   ]
  },
  {
   "cell_type": "code",
   "execution_count": null,
   "id": "48efbc49",
   "metadata": {},
   "outputs": [],
   "source": []
  }
 ],
 "metadata": {
  "kernelspec": {
   "display_name": "Python 3 (ipykernel)",
   "language": "python",
   "name": "python3"
  },
  "language_info": {
   "codemirror_mode": {
    "name": "ipython",
    "version": 3
   },
   "file_extension": ".py",
   "mimetype": "text/x-python",
   "name": "python",
   "nbconvert_exporter": "python",
   "pygments_lexer": "ipython3",
   "version": "3.9.12"
  }
 },
 "nbformat": 4,
 "nbformat_minor": 5
}
