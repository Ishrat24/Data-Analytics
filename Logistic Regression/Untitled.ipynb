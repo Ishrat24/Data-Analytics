{
 "cells": [
  {
   "cell_type": "code",
   "execution_count": 19,
   "id": "74fe8499",
   "metadata": {},
   "outputs": [],
   "source": [
    "#Ishrat Amin\n",
    "#CSCI381\n",
    "#Professor : Matthew Fried"
   ]
  },
  {
   "cell_type": "code",
   "execution_count": 20,
   "id": "fddb2cca",
   "metadata": {},
   "outputs": [],
   "source": [
    "import pandas as pd\n",
    "import matplotlib.pyplot as plt\n",
    "import seaborn as sns\n",
    "import numpy as np\n",
    "\n",
    "\n",
    "url = \"https://raw.githubusercontent.com/Ishrat24/Data-Analytics/main/Logistic%20Regression/HDMA%20Boston%20Housing%20Data.csv\""
   ]
  },
  {
   "cell_type": "code",
   "execution_count": 21,
   "id": "077257e3",
   "metadata": {},
   "outputs": [],
   "source": [
    "df = pd.read_table(url ,  delimiter=\" \")"
   ]
  },
  {
   "cell_type": "code",
   "execution_count": 22,
   "id": "7541a9c8",
   "metadata": {},
   "outputs": [
    {
     "data": {
      "text/html": [
       "<div>\n",
       "<style scoped>\n",
       "    .dataframe tbody tr th:only-of-type {\n",
       "        vertical-align: middle;\n",
       "    }\n",
       "\n",
       "    .dataframe tbody tr th {\n",
       "        vertical-align: top;\n",
       "    }\n",
       "\n",
       "    .dataframe thead th {\n",
       "        text-align: right;\n",
       "    }\n",
       "</style>\n",
       "<table border=\"1\" class=\"dataframe\">\n",
       "  <thead>\n",
       "    <tr style=\"text-align: right;\">\n",
       "      <th></th>\n",
       "      <th>,dir,hir,lvr,ccs,mcs,pbcr,dmi,self,single,uria,comdominiom,black,deny</th>\n",
       "    </tr>\n",
       "  </thead>\n",
       "  <tbody>\n",
       "    <tr>\n",
       "      <th>0</th>\n",
       "      <td>1,0.221000004,0.221000004,0.8,5,2,no,no,no,no,...</td>\n",
       "    </tr>\n",
       "    <tr>\n",
       "      <th>1</th>\n",
       "      <td>2,0.265,0.265,0.921875,2,2,no,no,no,yes,3.2000...</td>\n",
       "    </tr>\n",
       "    <tr>\n",
       "      <th>2</th>\n",
       "      <td>3,0.372000008,0.247999992,0.92039801,1,2,no,no...</td>\n",
       "    </tr>\n",
       "    <tr>\n",
       "      <th>3</th>\n",
       "      <td>4,0.32,0.25,0.860465116,1,2,no,no,no,no,4.3000...</td>\n",
       "    </tr>\n",
       "    <tr>\n",
       "      <th>4</th>\n",
       "      <td>5,0.36,0.35,0.6,1,1,no,no,no,no,3.200000048,0,...</td>\n",
       "    </tr>\n",
       "    <tr>\n",
       "      <th>...</th>\n",
       "      <td>...</td>\n",
       "    </tr>\n",
       "    <tr>\n",
       "      <th>2376</th>\n",
       "      <td>2377,0.3,0.3,0.77704918,1,2,no,no,no,yes,3.200...</td>\n",
       "    </tr>\n",
       "    <tr>\n",
       "      <th>2377</th>\n",
       "      <td>2378,0.26,0.2,0.526760563,2,1,no,no,no,no,3.09...</td>\n",
       "    </tr>\n",
       "    <tr>\n",
       "      <th>2378</th>\n",
       "      <td>2379,0.32,0.26,0.753846154,6,1,yes,no,no,yes,3...</td>\n",
       "    </tr>\n",
       "    <tr>\n",
       "      <th>2379</th>\n",
       "      <td>2380,0.35,0.26,0.813559322,2,2,no,no,no,yes,4....</td>\n",
       "    </tr>\n",
       "    <tr>\n",
       "      <th>2380</th>\n",
       "      <td>2381,0.330813567,0.255346122,0.700782903,2.116...</td>\n",
       "    </tr>\n",
       "  </tbody>\n",
       "</table>\n",
       "<p>2381 rows × 1 columns</p>\n",
       "</div>"
      ],
      "text/plain": [
       "     ,dir,hir,lvr,ccs,mcs,pbcr,dmi,self,single,uria,comdominiom,black,deny\n",
       "0     1,0.221000004,0.221000004,0.8,5,2,no,no,no,no,...                   \n",
       "1     2,0.265,0.265,0.921875,2,2,no,no,no,yes,3.2000...                   \n",
       "2     3,0.372000008,0.247999992,0.92039801,1,2,no,no...                   \n",
       "3     4,0.32,0.25,0.860465116,1,2,no,no,no,no,4.3000...                   \n",
       "4     5,0.36,0.35,0.6,1,1,no,no,no,no,3.200000048,0,...                   \n",
       "...                                                 ...                   \n",
       "2376  2377,0.3,0.3,0.77704918,1,2,no,no,no,yes,3.200...                   \n",
       "2377  2378,0.26,0.2,0.526760563,2,1,no,no,no,no,3.09...                   \n",
       "2378  2379,0.32,0.26,0.753846154,6,1,yes,no,no,yes,3...                   \n",
       "2379  2380,0.35,0.26,0.813559322,2,2,no,no,no,yes,4....                   \n",
       "2380  2381,0.330813567,0.255346122,0.700782903,2.116...                   \n",
       "\n",
       "[2381 rows x 1 columns]"
      ]
     },
     "execution_count": 22,
     "metadata": {},
     "output_type": "execute_result"
    }
   ],
   "source": [
    "df"
   ]
  },
  {
   "cell_type": "code",
   "execution_count": null,
   "id": "4ffa20ff",
   "metadata": {},
   "outputs": [],
   "source": []
  }
 ],
 "metadata": {
  "kernelspec": {
   "display_name": "Python 3 (ipykernel)",
   "language": "python",
   "name": "python3"
  },
  "language_info": {
   "codemirror_mode": {
    "name": "ipython",
    "version": 3
   },
   "file_extension": ".py",
   "mimetype": "text/x-python",
   "name": "python",
   "nbconvert_exporter": "python",
   "pygments_lexer": "ipython3",
   "version": "3.9.12"
  }
 },
 "nbformat": 4,
 "nbformat_minor": 5
}
